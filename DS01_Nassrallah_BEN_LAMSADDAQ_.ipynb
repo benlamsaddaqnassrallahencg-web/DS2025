{
  "nbformat": 4,
  "nbformat_minor": 0,
  "metadata": {
    "colab": {
      "provenance": []
    },
    "kernelspec": {
      "name": "python3",
      "display_name": "Python 3"
    },
    "language_info": {
      "name": "python"
    }
  },
  "cells": [
    {
      "cell_type": "code",
      "source": [
        "# Configuration du style\n",
        "sns.set_style(\"whitegrid\")\n",
        "plt.rcParams['figure.figsize'] = (12, 8)\n",
        "\n",
        "# Créer une figure avec plusieurs sous-graphiques\n",
        "fig, axes = plt.subplots(2, 2, figsize=(14, 10))\n",
        "\n",
        "# 1. Histogramme\n",
        "axes[0, 0].hist(colonne, bins=30, edgecolor='black', alpha=0.7)\n",
        "axes[0, 0].set_title('Distribution des valeurs', fontsize=14, fontweight='bold')\n",
        "axes[0, 0].set_xlabel('Valeur')\n",
        "axes[0, 0].set_ylabel('Fréquence')\n",
        "\n",
        "# Ajouter la moyenne et la médiane\n",
        "axes[0, 0].axvline(colonne.mean(), color='red', linestyle='--',\n",
        "                   label=f'Moyenne: {colonne.mean():.2f}')\n",
        "axes[0, 0].axvline(colonne.median(), color='green', linestyle='--',\n",
        "                   label=f'Médiane: {colonne.median():.2f}')\n",
        "axes[0, 0].legend()\n",
        "\n",
        "# 2. Boxplot\n",
        "axes[0, 1].boxplot(colonne.dropna(), vert=True)\n",
        "axes[0, 1].set_title('Boxplot - Détection des outliers', fontsize=14, fontweight='bold')\n",
        "axes[0, 1].set_ylabel('Valeur')\n",
        "\n",
        "# 3. Densité\n",
        "colonne.plot(kind='density', ax=axes[1, 0])\n",
        "axes[1, 0].set_title('Courbe de densité', fontsize=14, fontweight='bold')\n",
        "axes[1, 0].set_xlabel('Valeur')\n",
        "\n",
        "# 4. QQ-plot (pour tester la normalité)\n",
        "from scipy import stats\n",
        "stats.probplot(colonne.dropna(), dist=\"norm\", plot=axes[1, 1])\n",
        "axes[1, 1].set_title('Q-Q Plot (Test de normalité)', fontsize=14, fontweight='bold')\n",
        "\n",
        "plt.tight_layout()\n",
        "plt.show()"
      ],
      "metadata": {
        "colab": {
          "base_uri": "https://localhost:8080/",
          "height": 211
        },
        "id": "LdDoGwxwx8s7",
        "outputId": "0929babb-519b-4db2-e609-9ae277ced9b3"
      },
      "execution_count": 3,
      "outputs": [
        {
          "output_type": "error",
          "ename": "NameError",
          "evalue": "name 'sns' is not defined",
          "traceback": [
            "\u001b[0;31m---------------------------------------------------------------------------\u001b[0m",
            "\u001b[0;31mNameError\u001b[0m                                 Traceback (most recent call last)",
            "\u001b[0;32m/tmp/ipython-input-691724891.py\u001b[0m in \u001b[0;36m<cell line: 0>\u001b[0;34m()\u001b[0m\n\u001b[1;32m      1\u001b[0m \u001b[0;31m# Configuration du style\u001b[0m\u001b[0;34m\u001b[0m\u001b[0;34m\u001b[0m\u001b[0m\n\u001b[0;32m----> 2\u001b[0;31m \u001b[0msns\u001b[0m\u001b[0;34m.\u001b[0m\u001b[0mset_style\u001b[0m\u001b[0;34m(\u001b[0m\u001b[0;34m\"whitegrid\"\u001b[0m\u001b[0;34m)\u001b[0m\u001b[0;34m\u001b[0m\u001b[0;34m\u001b[0m\u001b[0m\n\u001b[0m\u001b[1;32m      3\u001b[0m \u001b[0mplt\u001b[0m\u001b[0;34m.\u001b[0m\u001b[0mrcParams\u001b[0m\u001b[0;34m[\u001b[0m\u001b[0;34m'figure.figsize'\u001b[0m\u001b[0;34m]\u001b[0m \u001b[0;34m=\u001b[0m \u001b[0;34m(\u001b[0m\u001b[0;36m12\u001b[0m\u001b[0;34m,\u001b[0m \u001b[0;36m8\u001b[0m\u001b[0;34m)\u001b[0m\u001b[0;34m\u001b[0m\u001b[0;34m\u001b[0m\u001b[0m\n\u001b[1;32m      4\u001b[0m \u001b[0;34m\u001b[0m\u001b[0m\n\u001b[1;32m      5\u001b[0m \u001b[0;31m# Créer une figure avec plusieurs sous-graphiques\u001b[0m\u001b[0;34m\u001b[0m\u001b[0;34m\u001b[0m\u001b[0m\n",
            "\u001b[0;31mNameError\u001b[0m: name 'sns' is not defined"
          ]
        }
      ]
    },
    {
      "cell_type": "code",
      "source": [
        "<img src=\"collection.jpeg\" style=\"height:464px;margin-right:432px\"/>"
      ],
      "metadata": {
        "colab": {
          "base_uri": "https://localhost:8080/",
          "height": 106
        },
        "id": "xVgpXkGZxaV4",
        "outputId": "855a5b15-c99f-471c-b2b3-244f50d58fb0"
      },
      "execution_count": 2,
      "outputs": [
        {
          "output_type": "error",
          "ename": "SyntaxError",
          "evalue": "invalid syntax (ipython-input-221624701.py, line 1)",
          "traceback": [
            "\u001b[0;36m  File \u001b[0;32m\"/tmp/ipython-input-221624701.py\"\u001b[0;36m, line \u001b[0;32m1\u001b[0m\n\u001b[0;31m    <img src=\"collection.jpeg\" style=\"height:464px;margin-right:432px\"/>\u001b[0m\n\u001b[0m    ^\u001b[0m\n\u001b[0;31mSyntaxError\u001b[0m\u001b[0;31m:\u001b[0m invalid syntax\n"
          ]
        }
      ]
    }
  ]
}